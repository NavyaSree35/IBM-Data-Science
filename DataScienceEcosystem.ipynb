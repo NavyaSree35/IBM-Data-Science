{
 "cells": [
  {
   "cell_type": "markdown",
   "id": "afd30c52",
   "metadata": {},
   "source": [
    "# Data Science Tools and Ecosystem\n"
   ]
  },
  {
   "cell_type": "markdown",
   "id": "8138d773",
   "metadata": {},
   "source": [
    "In this notebook, Data Science Tools and Ecosystem are summarized."
   ]
  },
  {
   "cell_type": "markdown",
   "id": "6c36a358",
   "metadata": {},
   "source": [
    "Some of the popular languages that Data Scientists use are:\n",
    "1. Python\n",
    "2. R\n",
    "3. C++\n",
    "4. SQL\n",
    "5. Java etc...;"
   ]
  },
  {
   "cell_type": "markdown",
   "id": "f94ae420",
   "metadata": {},
   "source": [
    "Some of the commonly used libraries used by Data Scientists include:\n",
    "1. TensorFlow\n",
    "2. Pytorch\n",
    "3. Pandas\n",
    "4. Matplotlib\n",
    "5. Seaborn\n",
    "6. Scikitlearn\n",
    "7. Scipy\n",
    "8. Pandas etc...;"
   ]
  },
  {
   "cell_type": "markdown",
   "id": "0bbd7bc4",
   "metadata": {},
   "source": [
    "|Data Science Tools|\n",
    "|---------------|\n",
    "|Apache Hadoop|\n",
    "|TensorFlow|\n",
    "|Apache Spark|\n",
    "|SAS|"
   ]
  },
  {
   "cell_type": "markdown",
   "id": "87023cc7",
   "metadata": {},
   "source": [
    "### Below are a few examples of evaluating arithmetic expressions in Python"
   ]
  },
  {
   "cell_type": "code",
   "execution_count": 3,
   "id": "140e81ac",
   "metadata": {},
   "outputs": [
    {
     "data": {
      "text/plain": [
       "17"
      ]
     },
     "execution_count": 3,
     "metadata": {},
     "output_type": "execute_result"
    }
   ],
   "source": [
    "# This a simple arithmetic expression to mutiply then add integers\n",
    "(3*4)+5"
   ]
  },
  {
   "cell_type": "code",
   "execution_count": 4,
   "id": "09020d7f",
   "metadata": {},
   "outputs": [
    {
     "data": {
      "text/plain": [
       "3.3333333333333335"
      ]
     },
     "execution_count": 4,
     "metadata": {},
     "output_type": "execute_result"
    }
   ],
   "source": [
    "#This will convert 200 minutes to hours by diving by 60.\n",
    "200/60"
   ]
  },
  {
   "cell_type": "markdown",
   "id": "e962695b",
   "metadata": {},
   "source": [
    "__Objective__\n",
    "* List Popular Languages for Data Science\n",
    "* List Popular Libraries for Data Science\n",
    "* List of Well Known DataScience Tools\n",
    "* How to add comments in the cell"
   ]
  },
  {
   "cell_type": "markdown",
   "id": "dd853986",
   "metadata": {},
   "source": [
    "## Author\n",
    "Navya Sree Sandineni "
   ]
  }
 ],
 "metadata": {
  "kernelspec": {
   "display_name": "Python 3 (ipykernel)",
   "language": "python",
   "name": "python3"
  },
  "language_info": {
   "codemirror_mode": {
    "name": "ipython",
    "version": 3
   },
   "file_extension": ".py",
   "mimetype": "text/x-python",
   "name": "python",
   "nbconvert_exporter": "python",
   "pygments_lexer": "ipython3",
   "version": "3.9.12"
  }
 },
 "nbformat": 4,
 "nbformat_minor": 5
}
